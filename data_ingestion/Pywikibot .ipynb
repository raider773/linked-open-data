{
 "cells": [
  {
   "cell_type": "markdown",
   "id": "98cb686d-d6f4-4d09-b358-0cd73e1f2291",
   "metadata": {},
   "source": [
    "### Links"
   ]
  },
  {
   "cell_type": "markdown",
   "id": "b0238cf4-5569-4d7d-895d-4ef38db021ad",
   "metadata": {},
   "source": [
    "https://github.com/wikimedia/pywikibot <br>\n",
    "https://www.mediawiki.org/wiki/Manual:Pywikibot <br>\n",
    "https://pypi.org/project/pywikibot/ <br>\n",
    "https://www.mediawiki.org/wiki/Manual:Pywikibot/es <br>\n",
    "https://doc.wikimedia.org/pywikibot/master/ <br>"
   ]
  },
  {
   "cell_type": "markdown",
   "id": "d938876b-1785-4ca2-92f9-d4dcf783b86e",
   "metadata": {},
   "source": [
    "### Functions"
   ]
  },
  {
   "cell_type": "code",
   "execution_count": 2,
   "id": "0f5f77e7-9ffd-4a5a-b45f-adcc3b995f13",
   "metadata": {},
   "outputs": [],
   "source": [
    "import pywikibot\n",
    "import time\n",
    "\n",
    "\n",
    "site = pywikibot.Site(\"wikidata\", \"wikidata\")\n",
    "repo = site.data_repository()\n",
    "\n",
    "subject_ids = [\n",
    "    \"Q3918\",   \n",
    "    \"Q9091606\", \n",
    "    \"Q750\",    \n",
    "    \"Q3028249\", \n",
    "    \"Q414\",   \n",
    "    \"Q1486\",   \n",
    "    \"Q5770918\", \n",
    "    \"Q12585\"  \n",
    "]\n",
    "\n",
    "predicates_ids = [\n",
    "    \"P31\",   \n",
    "    \"P17\",   \n",
    "    \"P361\",  \n",
    "    \"P131\",  \n",
    "    \"P1376\"  \n",
    "]\n",
    "\n",
    "def get_subject(subject_id):\n",
    "    item = pywikibot.ItemPage(repo, subject_id)\n",
    "    item.get()  \n",
    "    return item\n",
    "\n",
    "def make_graph(subject_ids, predicates_ids):\n",
    "    graph = []\n",
    "    for subject_id in subject_ids:\n",
    "        current_subject = get_subject(subject_id)\n",
    "        claims = current_subject.claims\n",
    "        \n",
    "        for predicate in predicates_ids:\n",
    "            if predicate in claims:\n",
    "                for claim in claims[predicate]:\n",
    "                    try:\n",
    "                        target_id = claim.getTarget().id\n",
    "                        if target_id in subject_ids:\n",
    "                            graph.append([subject_id, predicate, target_id])\n",
    "                    except AttributeError:\n",
    "                        pass  \n",
    "    \n",
    "    return graph"
   ]
  },
  {
   "cell_type": "markdown",
   "id": "2bf55659-ffe4-4782-84f9-9e1291729c09",
   "metadata": {},
   "source": [
    "### Graph Creation"
   ]
  },
  {
   "cell_type": "code",
   "execution_count": 3,
   "id": "8ed76fab-568a-44ad-9f30-358d2a55b202",
   "metadata": {},
   "outputs": [
    {
     "name": "stdout",
     "output_type": "stream",
     "text": [
      "Function execution time: 8037.35 ms\n"
     ]
    }
   ],
   "source": [
    "start_time = time.time()\n",
    "graph = make_graph(subject_ids, predicates_ids)\n",
    "end_time = time.time()\n",
    "\n",
    "execution_time_ms = (end_time - start_time) * 1000\n",
    "print(f\"Function execution time: {execution_time_ms:.2f} ms\")"
   ]
  },
  {
   "cell_type": "markdown",
   "id": "0fbabf82-d2bd-4837-b5ad-4f45dc6d2bf7",
   "metadata": {},
   "source": [
    "### Graph Plot"
   ]
  },
  {
   "cell_type": "code",
   "execution_count": 4,
   "id": "998f8b66-0881-4cce-ba4f-997883f2c3c8",
   "metadata": {},
   "outputs": [
    {
     "name": "stdout",
     "output_type": "stream",
     "text": [
      "['Q9091606', 'P31', 'Q3918']\n",
      "['Q9091606', 'P17', 'Q750']\n",
      "['Q750', 'P17', 'Q750']\n",
      "['Q750', 'P361', 'Q12585']\n",
      "['Q3028249', 'P17', 'Q414']\n",
      "['Q3028249', 'P131', 'Q1486']\n",
      "['Q414', 'P17', 'Q414']\n",
      "['Q414', 'P361', 'Q12585']\n",
      "['Q1486', 'P31', 'Q5770918']\n",
      "['Q1486', 'P17', 'Q414']\n",
      "['Q1486', 'P131', 'Q414']\n",
      "['Q1486', 'P1376', 'Q414']\n",
      "['Q5770918', 'P17', 'Q414']\n"
     ]
    }
   ],
   "source": [
    "for edge in graph:\n",
    "    print(edge)"
   ]
  }
 ],
 "metadata": {
  "kernelspec": {
   "display_name": "Python 3 (ipykernel)",
   "language": "python",
   "name": "python3"
  },
  "language_info": {
   "codemirror_mode": {
    "name": "ipython",
    "version": 3
   },
   "file_extension": ".py",
   "mimetype": "text/x-python",
   "name": "python",
   "nbconvert_exporter": "python",
   "pygments_lexer": "ipython3",
   "version": "3.13.0"
  }
 },
 "nbformat": 4,
 "nbformat_minor": 5
}
