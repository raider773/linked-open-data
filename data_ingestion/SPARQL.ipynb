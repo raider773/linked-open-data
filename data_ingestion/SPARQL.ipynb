{
 "cells": [
  {
   "cell_type": "markdown",
   "id": "760a3246-a8ed-4d4e-83c1-bd4b7d83fbae",
   "metadata": {},
   "source": [
    "### Links"
   ]
  },
  {
   "cell_type": "markdown",
   "id": "40e28acf-403c-48e4-8e1b-ce2de377c7a5",
   "metadata": {},
   "source": [
    "https://www.wikidata.org/wiki/Wikidata:SPARQL_tutorial <br>\n",
    "https://www.wikidata.org/wiki/Wikidata:Main_Page <br>\n",
    "https://www.wikidata.org/wiki/Wikidata:Community_portal <br>\n",
    "https://www.wikidata.org/wiki/Wikidata:SPARQL_query_service/query_limits <br>\n",
    "https://www.wikidata.org/wiki/Wikidata:Project_chat <br>\n",
    "https://www.wikidata.org/wiki/Special:RecentChanges?hidebots=1&hidecategorization=1&limit=50&days=7&urlversion=2 <br>\n",
    "https://query.wikidata.org/ <br>"
   ]
  },
  {
   "cell_type": "markdown",
   "id": "c0455c9f-8849-4775-99e4-c841d4e5e2db",
   "metadata": {},
   "source": [
    "### Functions"
   ]
  },
  {
   "cell_type": "code",
   "execution_count": 11,
   "id": "2f226534-8015-43b8-a9ec-74b98e0539da",
   "metadata": {},
   "outputs": [],
   "source": [
    "from SPARQLWrapper import SPARQLWrapper, JSON\n",
    "import time\n",
    "\n",
    "query = \"\"\"\n",
    "SELECT ?subject ?predicate ?object WHERE {\n",
    "  VALUES ?subject {\n",
    "    wd:Q3918   # University\n",
    "    wd:Q9091606 # Universidad Privada del Valle\n",
    "    wd:Q750    # Bolivia\n",
    "    wd:Q3028249 # UADE\n",
    "    wd:Q414    # Argentina\n",
    "    wd:Q1486   # Buenos Aires\n",
    "    wd:Q5770918 # City of Argentina\n",
    "    wd:Q12585  # Latin America\n",
    "  }\n",
    "  \n",
    "  VALUES ?predicate {\n",
    "    wdt:P31   # Instance of\n",
    "    wdt:P17   # Country\n",
    "    wdt:P361  # Part of\n",
    "    wdt:P131  # Located in the administrative territorial entity\n",
    "    wdt:P1376  # Capital of\n",
    "  }\n",
    "  \n",
    "  ?subject ?predicate ?object .\n",
    "  \n",
    "  VALUES ?object {\n",
    "    wd:Q3918   # University\n",
    "    wd:Q9091606 # Universidad Privada del Valle\n",
    "    wd:Q750    # Bolivia\n",
    "    wd:Q3028249 # UADE\n",
    "    wd:Q414    # Argentina\n",
    "    wd:Q1486   # Buenos Aires\n",
    "    wd:Q5770918 # City of Argentina\n",
    "    wd:Q12585  # Latin America\n",
    "  }\n",
    "}\n",
    "\"\"\"\n",
    "\n",
    "\n",
    "\n",
    "def make_graph(results):\n",
    "    graph = []\n",
    "    for result in results[\"results\"][\"bindings\"]:\n",
    "        subject = result[\"subject\"][\"value\"].split(\"/\")[-1]  \n",
    "        predicate = result[\"predicate\"][\"value\"].split(\"/\")[-1]\n",
    "        object_ = result[\"object\"][\"value\"].split(\"/\")[-1]\n",
    "        \n",
    "        graph.append([subject, predicate, object_])\n",
    "    \n",
    "    return graph"
   ]
  },
  {
   "cell_type": "markdown",
   "id": "fddcf5f1-bad0-4d8d-bc0a-c5474deb1965",
   "metadata": {},
   "source": [
    "### Graph Creation"
   ]
  },
  {
   "cell_type": "code",
   "execution_count": 12,
   "id": "d6320e0e-2fac-43b0-a7fa-cccda6028dfd",
   "metadata": {},
   "outputs": [
    {
     "name": "stdout",
     "output_type": "stream",
     "text": [
      "Function execution time: 1279.99 ms\n"
     ]
    }
   ],
   "source": [
    "start_time = time.time()\n",
    "\n",
    "sparql = SPARQLWrapper(\"https://query.wikidata.org/sparql\")\n",
    "\n",
    "sparql.addCustomHttpHeader(\"User-Agent\", \"YourAppName/1.0 (your-email@example.com)\")\n",
    "sparql.setQuery(query)\n",
    "sparql.setReturnFormat(JSON)\n",
    "results = sparql.query().convert()\n",
    "\n",
    "graph = create_graph_from_results(results)\n",
    "\n",
    "end_time = time.time()\n",
    "execution_time_ms = (end_time - start_time) * 1000\n",
    "\n",
    "print(f\"Function execution time: {execution_time_ms:.2f} ms\")"
   ]
  },
  {
   "cell_type": "markdown",
   "id": "42202b0b-138c-4fdb-ad46-b242ff721998",
   "metadata": {},
   "source": [
    "### Graph Plot"
   ]
  },
  {
   "cell_type": "code",
   "execution_count": 13,
   "id": "341bb54c-d441-4687-ac71-78aa6913479b",
   "metadata": {},
   "outputs": [
    {
     "name": "stdout",
     "output_type": "stream",
     "text": [
      "['Q414', 'P17', 'Q414']\n",
      "['Q414', 'P361', 'Q12585']\n",
      "['Q750', 'P17', 'Q750']\n",
      "['Q750', 'P361', 'Q12585']\n",
      "['Q1486', 'P17', 'Q414']\n",
      "['Q1486', 'P31', 'Q5770918']\n",
      "['Q1486', 'P131', 'Q414']\n",
      "['Q1486', 'P1376', 'Q414']\n",
      "['Q3028249', 'P17', 'Q414']\n",
      "['Q3028249', 'P131', 'Q1486']\n",
      "['Q5770918', 'P17', 'Q414']\n",
      "['Q9091606', 'P17', 'Q750']\n",
      "['Q9091606', 'P31', 'Q3918']\n"
     ]
    }
   ],
   "source": [
    "for edge in graph:\n",
    "    print(edge)"
   ]
  }
 ],
 "metadata": {
  "kernelspec": {
   "display_name": "Python 3 (ipykernel)",
   "language": "python",
   "name": "python3"
  },
  "language_info": {
   "codemirror_mode": {
    "name": "ipython",
    "version": 3
   },
   "file_extension": ".py",
   "mimetype": "text/x-python",
   "name": "python",
   "nbconvert_exporter": "python",
   "pygments_lexer": "ipython3",
   "version": "3.13.0"
  }
 },
 "nbformat": 4,
 "nbformat_minor": 5
}
