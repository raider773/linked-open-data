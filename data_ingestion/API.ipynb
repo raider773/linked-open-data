{
 "cells": [
  {
   "cell_type": "markdown",
   "id": "7e209466-d839-4a8f-9398-66b0b908b281",
   "metadata": {},
   "source": [
    "### Links"
   ]
  },
  {
   "cell_type": "markdown",
   "id": "d51d6d6a-7d32-4349-93c0-912887cf6e97",
   "metadata": {},
   "source": [
    "https://www.wikidata.org/wiki/Wikidata:Data_access <br>\n",
    "https://www.wikidata.org/wiki/Wikidata:REST_API <br>\n",
    "https://www.mediawiki.org/wiki/API:Ratelimit <br>\n",
    "https://doc.wikimedia.org/Wikibase/master/js/rest-api/#/ <br>\n",
    "https://doc.wikimedia.org/Wikibase/master/php/repo_rest-api_README.html <br>\n",
    "https://doc.wikimedia.org/Wikibase/master/php/repo_rest-api_README.html <br>"
   ]
  },
  {
   "cell_type": "markdown",
   "id": "0bb31ac6-054d-4fa6-8763-32ce369db923",
   "metadata": {},
   "source": [
    "### Functions"
   ]
  },
  {
   "cell_type": "code",
   "execution_count": 1,
   "id": "dcd56a77-8493-443b-80ca-71940dcd8224",
   "metadata": {},
   "outputs": [],
   "source": [
    "import requests\n",
    "import time\n",
    "from rdflib import Graph, URIRef, Namespace"
   ]
  },
  {
   "cell_type": "code",
   "execution_count": 2,
   "id": "035adf6b-a5fb-4dec-80d9-0ee17f4a3a16",
   "metadata": {},
   "outputs": [],
   "source": [
    "subject_ids = [\n",
    "    \"Q3918\",   # University\n",
    "    \"Q9091606\", # Universidad Privada del Valle\n",
    "    \"Q750\",    # Bolivia\n",
    "    \"Q3028249\", # UADE\n",
    "    \"Q414\",    # Argentina\n",
    "    \"Q1486\",   # Buenos Aires\n",
    "    \"Q5770918\", # City of Argentina\n",
    "    \"Q12585\"  # Latin America\n",
    "]"
   ]
  },
  {
   "cell_type": "code",
   "execution_count": 3,
   "id": "c023a31e-14ce-4dc5-8627-629c9a2e02cb",
   "metadata": {},
   "outputs": [],
   "source": [
    "predicates_ids = [\n",
    "    \"P31\",   # Instance of\n",
    "    \"P17\",   # Country\n",
    "    \"P361\",  # Part of\n",
    "    \"P131\",  # Located in the administrative territorial entity\n",
    "    \"P1376\"  # Capital of\n",
    "]"
   ]
  },
  {
   "cell_type": "code",
   "execution_count": 4,
   "id": "c3b5e9c0-f741-42d6-ac80-7de47fc5a920",
   "metadata": {},
   "outputs": [],
   "source": [
    "def get_subject(subject_id):       \n",
    "    url = f\"https://www.wikidata.org/wiki/Special:EntityData/{subject_id}.json\"\n",
    "    response = requests.get(url)\n",
    "    data = response.json()\n",
    "\n",
    "    return data"
   ]
  },
  {
   "cell_type": "code",
   "execution_count": 5,
   "id": "190110da-308a-4a00-a337-840222696845",
   "metadata": {},
   "outputs": [],
   "source": [
    "def make_graph(subject_ids,predicates_ids):\n",
    "    graph = []\n",
    "    for subject_id in subject_ids:     \n",
    "        current_subject = get_subject(subject_id)\n",
    "        predicates = list(current_subject[\"entities\"][subject_id][\"claims\"].keys())\n",
    "        filtered_predicates = [x for x in predicates if x in predicates_ids]\n",
    "        for predicate in filtered_predicates:\n",
    "            try:\n",
    "                current_object = current_subject[\"entities\"][subject_id][\"claims\"][predicate][0][\"mainsnak\"][\"datavalue\"][\"value\"][\"id\"]\n",
    "                if current_object in subject_ids:\n",
    "                    graph.append([subject_id,predicate,current_object])\n",
    "            except:\n",
    "                pass\n",
    "\n",
    "    return graph"
   ]
  },
  {
   "cell_type": "markdown",
   "id": "fa728f38-4ece-4472-aba6-7db104bda80d",
   "metadata": {},
   "source": [
    "### Graph Creation"
   ]
  },
  {
   "cell_type": "code",
   "execution_count": 6,
   "id": "f802814b-1a98-43f1-b83c-633acf4110f9",
   "metadata": {},
   "outputs": [],
   "source": [
    "start_time = time.time()\n",
    "graph = make_graph(subject_ids,predicates_ids)\n",
    "end_time = time.time()"
   ]
  },
  {
   "cell_type": "code",
   "execution_count": 7,
   "id": "50e4d5e5-ab50-45f0-9842-5bf0837caedc",
   "metadata": {},
   "outputs": [
    {
     "name": "stdout",
     "output_type": "stream",
     "text": [
      "Function execution time: 5685.65 ms\n"
     ]
    }
   ],
   "source": [
    "execution_time_ms = (end_time - start_time) * 1000\n",
    "\n",
    "print(f\"Function execution time: {execution_time_ms:.2f} ms\")"
   ]
  },
  {
   "cell_type": "code",
   "execution_count": 8,
   "id": "e1d0ed54-a7f9-4f2b-a91b-f462e0622b7d",
   "metadata": {},
   "outputs": [],
   "source": [
    "g = Graph()\n",
    "\n",
    "WIKIDATA = Namespace(\"http://www.wikidata.org/entity/\")\n",
    "WIKIDATA_PROP = Namespace(\"http://www.wikidata.org/prop/direct/\")\n",
    "\n",
    "for triple in graph:\n",
    "    subject_id, predicate_id, object_id = triple\n",
    "    \n",
    "    subject = URIRef(WIKIDATA[subject_id])\n",
    "    predicate = URIRef(WIKIDATA_PROP[predicate_id])\n",
    "    obj = URIRef(WIKIDATA[object_id])\n",
    "    \n",
    "    g.add((subject, predicate, obj))"
   ]
  },
  {
   "cell_type": "markdown",
   "id": "d1738428-cb1c-4054-b473-e52f0d3d026c",
   "metadata": {},
   "source": [
    "### Graph Plot"
   ]
  },
  {
   "cell_type": "code",
   "execution_count": 9,
   "id": "901bcc81-3efc-4b31-9cd7-93d15972fbb6",
   "metadata": {},
   "outputs": [
    {
     "name": "stdout",
     "output_type": "stream",
     "text": [
      "<http://www.wikidata.org/entity/Q5770918> <http://www.wikidata.org/prop/direct/P17> <http://www.wikidata.org/entity/Q414> .\n",
      "<http://www.wikidata.org/entity/Q9091606> <http://www.wikidata.org/prop/direct/P31> <http://www.wikidata.org/entity/Q3918> .\n",
      "<http://www.wikidata.org/entity/Q1486> <http://www.wikidata.org/prop/direct/P131> <http://www.wikidata.org/entity/Q414> .\n",
      "<http://www.wikidata.org/entity/Q1486> <http://www.wikidata.org/prop/direct/P1376> <http://www.wikidata.org/entity/Q414> .\n",
      "<http://www.wikidata.org/entity/Q750> <http://www.wikidata.org/prop/direct/P17> <http://www.wikidata.org/entity/Q750> .\n",
      "<http://www.wikidata.org/entity/Q414> <http://www.wikidata.org/prop/direct/P361> <http://www.wikidata.org/entity/Q12585> .\n",
      "<http://www.wikidata.org/entity/Q414> <http://www.wikidata.org/prop/direct/P17> <http://www.wikidata.org/entity/Q414> .\n",
      "<http://www.wikidata.org/entity/Q3028249> <http://www.wikidata.org/prop/direct/P17> <http://www.wikidata.org/entity/Q414> .\n",
      "<http://www.wikidata.org/entity/Q3028249> <http://www.wikidata.org/prop/direct/P131> <http://www.wikidata.org/entity/Q1486> .\n",
      "<http://www.wikidata.org/entity/Q9091606> <http://www.wikidata.org/prop/direct/P17> <http://www.wikidata.org/entity/Q750> .\n",
      "<http://www.wikidata.org/entity/Q1486> <http://www.wikidata.org/prop/direct/P17> <http://www.wikidata.org/entity/Q414> .\n",
      "<http://www.wikidata.org/entity/Q1486> <http://www.wikidata.org/prop/direct/P31> <http://www.wikidata.org/entity/Q5770918> .\n",
      "<http://www.wikidata.org/entity/Q750> <http://www.wikidata.org/prop/direct/P361> <http://www.wikidata.org/entity/Q12585> .\n",
      "\n"
     ]
    }
   ],
   "source": [
    "print(g.serialize(format=\"nt\"))"
   ]
  },
  {
   "cell_type": "code",
   "execution_count": null,
   "id": "5913725e-cd4c-428d-bb85-c7e553152071",
   "metadata": {},
   "outputs": [],
   "source": []
  }
 ],
 "metadata": {
  "kernelspec": {
   "display_name": "Python 3 (ipykernel)",
   "language": "python",
   "name": "python3"
  },
  "language_info": {
   "codemirror_mode": {
    "name": "ipython",
    "version": 3
   },
   "file_extension": ".py",
   "mimetype": "text/x-python",
   "name": "python",
   "nbconvert_exporter": "python",
   "pygments_lexer": "ipython3",
   "version": "3.13.0"
  }
 },
 "nbformat": 4,
 "nbformat_minor": 5
}
